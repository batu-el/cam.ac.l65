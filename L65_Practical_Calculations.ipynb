{
  "nbformat": 4,
  "nbformat_minor": 0,
  "metadata": {
    "colab": {
      "provenance": [],
      "authorship_tag": "ABX9TyM6cmtVWPc4I/eTwKQtSA/U",
      "include_colab_link": true
    },
    "kernelspec": {
      "name": "python3",
      "display_name": "Python 3"
    },
    "language_info": {
      "name": "python"
    }
  },
  "cells": [
    {
      "cell_type": "markdown",
      "metadata": {
        "id": "view-in-github",
        "colab_type": "text"
      },
      "source": [
        "<a href=\"https://colab.research.google.com/github/batu-el/cam.ac.l65/blob/main/L65_Practical_Calculations.ipynb\" target=\"_parent\"><img src=\"https://colab.research.google.com/assets/colab-badge.svg\" alt=\"Open In Colab\"/></a>"
      ]
    },
    {
      "cell_type": "code",
      "execution_count": 1,
      "metadata": {
        "id": "tUISwchCzu83"
      },
      "outputs": [],
      "source": [
        "# Review of GNN Explainer: Calculations\n",
        "# Author: Batu El\n",
        "# Date: 26 Feb 2024"
      ]
    },
    {
      "cell_type": "code",
      "source": [
        "# Question 1: How to get 17.1% ?\n",
        "# Quote: \" GNNEXPLAINER outperforms alternative approaches by 17.1% on average.\"\n",
        "\n",
        "import numpy\n",
        "\n",
        "# Table 1 from the paper\n",
        "att_values = numpy.array([0.815, 0.739, 0.824, 0.612])\n",
        "grad_values = numpy.array([0.882, 0.750, 0.905, 0.667])\n",
        "gnnex_values = numpy.array([0.925,\t0.836,\t0.948,\t0.875])\n",
        "\n",
        "# Average alternative methods\n",
        "alternative_methods_avg = (att_values+grad_values) / 2\n",
        "\n",
        "# Average of percentage increases for each datasets\n",
        "print('Not this way:', (((gnnex_values.sum()/4) - (alternative_methods_avg.sum()/4)) / (alternative_methods_avg.sum()/4)))\n",
        "print('Not this way:',((gnnex_values - alternative_methods_avg) / alternative_methods_avg).sum()/4)\n",
        "print('This way:',((((gnnex_values - att_values) / att_values).sum()/4) + (((gnnex_values - grad_values) / grad_values).sum()/4)) / 2)"
      ],
      "metadata": {
        "colab": {
          "base_uri": "https://localhost:8080/"
        },
        "id": "gDge098qzw3w",
        "outputId": "c8ad4635-1b03-4e1c-9e75-b653892c7790"
      },
      "execution_count": 13,
      "outputs": [
        {
          "output_type": "stream",
          "name": "stdout",
          "text": [
            "Not this way: 0.1572489505973523\n",
            "Not this way: 0.169476113395284\n",
            "This way: 0.17115364659530186\n"
          ]
        }
      ]
    },
    {
      "cell_type": "code",
      "source": [
        "# Question 2: How to get 43%\n",
        "# Quote: \"GNNEXPLAINER achieves up to 43.0% higher accuracy on the hardest TREE-GRID dataset\"\n",
        "\n",
        "# Table 1 from the paper\n",
        "att_values = numpy.array([0.815, 0.739, 0.824, 0.612])\n",
        "gnnex_values = numpy.array([0.925,\t0.836,\t0.948,\t0.875])\n",
        "\n",
        "print('This way:', (gnnex_values[-1] - att_values[-1]) / att_values[-1])"
      ],
      "metadata": {
        "colab": {
          "base_uri": "https://localhost:8080/"
        },
        "id": "ODWD2Mqr0NH4",
        "outputId": "de6646cb-4ae5-4fc3-df65-07e311264e7a"
      },
      "execution_count": 14,
      "outputs": [
        {
          "output_type": "stream",
          "name": "stdout",
          "text": [
            "This way: 0.4297385620915033\n"
          ]
        }
      ]
    },
    {
      "cell_type": "code",
      "source": [
        "print('In conclusion, the reported results in the paper are highly optimized to oversell the explanaiton accuracy improvements that GNNExplainer achieves over alternative methods.')"
      ],
      "metadata": {
        "colab": {
          "base_uri": "https://localhost:8080/"
        },
        "id": "uzoFG7eA0e-u",
        "outputId": "d89448a6-cd01-4973-dd8d-d2a4bb2f5d83"
      },
      "execution_count": 17,
      "outputs": [
        {
          "output_type": "stream",
          "name": "stdout",
          "text": [
            "In conclusion, the reported results in the paper are highly optimized to oversell the explanaiton accuracy improvements that GNNExplainer achieves over alternative methods.\n"
          ]
        }
      ]
    },
    {
      "cell_type": "code",
      "source": [],
      "metadata": {
        "id": "lC1bqTCS2rsG"
      },
      "execution_count": null,
      "outputs": []
    }
  ]
}