{
  "nbformat": 4,
  "nbformat_minor": 0,
  "metadata": {
    "colab": {
      "provenance": [],
      "authorship_tag": "ABX9TyOfE7giu515QZAMKY9/oCOL",
      "include_colab_link": true
    },
    "kernelspec": {
      "name": "python3",
      "display_name": "Python 3"
    },
    "language_info": {
      "name": "python"
    }
  },
  "cells": [
    {
      "cell_type": "markdown",
      "metadata": {
        "id": "view-in-github",
        "colab_type": "text"
      },
      "source": [
        "<a href=\"https://colab.research.google.com/github/batu-el/cam.ac.l65/blob/main/L65_Practical_Calculations.ipynb\" target=\"_parent\"><img src=\"https://colab.research.google.com/assets/colab-badge.svg\" alt=\"Open In Colab\"/></a>"
      ]
    },
    {
      "cell_type": "code",
      "execution_count": 1,
      "metadata": {
        "id": "tUISwchCzu83"
      },
      "outputs": [],
      "source": [
        "# Review of GNN Explainer: Calculations\n",
        "# Author: Batu El\n",
        "# Date: 26 Feb 2024"
      ]
    },
    {
      "cell_type": "code",
      "source": [
        "# Question 1: How to get 17%\n",
        "# Quote: \" GNNEXPLAINER outperforms alternative approaches by 17.1% on average.\"\n",
        "\n",
        "import numpy\n",
        "\n",
        "# Table 1 from the paper\n",
        "att_values = numpy.array([0.815, 0.739, 0.824, 0.612])\n",
        "grad_values = numpy.array([0.882, 0.750, 0.905, 0.667])\n",
        "gnnex_values = numpy.array([0.925,\t0.836,\t0.948,\t0.875])\n",
        "\n",
        "# Average alternative methods\n",
        "alternative_methods_avg = (att_values+grad_values) / 2\n",
        "\n",
        "# Average of percentage increases for each datasets\n",
        "print(((gnnex_values - alternative_methods_avg) / alternative_methods_avg).sum()/4)"
      ],
      "metadata": {
        "colab": {
          "base_uri": "https://localhost:8080/"
        },
        "id": "gDge098qzw3w",
        "outputId": "ae6916c9-2986-484b-b3d5-9a9fb57836f5"
      },
      "execution_count": 4,
      "outputs": [
        {
          "output_type": "stream",
          "name": "stdout",
          "text": [
            "0.169476113395284\n"
          ]
        }
      ]
    },
    {
      "cell_type": "code",
      "source": [
        "# Question 2: How to get 43%\n",
        "# Quote: \"GNNEXPLAINER achieves up to 43.0% higher accuracy on the hardest TREE-GRID dataset\"\n",
        "\n",
        "# Table 1 from the paper\n",
        "att_values = numpy.array([0.815, 0.739, 0.824, 0.612])\n",
        "gnnex_values = numpy.array([0.925,\t0.836,\t0.948,\t0.875])\n",
        "\n",
        "print((gnnex_values[-1] - att_values[-1]) / att_values[-1])"
      ],
      "metadata": {
        "colab": {
          "base_uri": "https://localhost:8080/"
        },
        "id": "ODWD2Mqr0NH4",
        "outputId": "d22d5d05-4893-47dc-cac1-b9d3dfe8c373"
      },
      "execution_count": 5,
      "outputs": [
        {
          "output_type": "stream",
          "name": "stdout",
          "text": [
            "0.4297385620915033\n"
          ]
        }
      ]
    },
    {
      "cell_type": "code",
      "source": [],
      "metadata": {
        "id": "uzoFG7eA0e-u"
      },
      "execution_count": null,
      "outputs": []
    }
  ]
}